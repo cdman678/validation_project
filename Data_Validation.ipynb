{
 "cells": [
  {
   "cell_type": "markdown",
   "metadata": {},
   "source": [
    "Intro\n",
    "    This notebook serves as a demonstration to the data validation functions created for this project.\n",
    "    This notebook is for the project update two\n",
    "\n",
    "    1) Validation of the data set. Checking for \"hidden\" issues in the data\n",
    "        - Outliers\n",
    "        - Dupplicate Data\n",
    "        - Balance\n",
    "        - Correlation\n",
    "\n",
    "    2) Validation of the Train / Test Split\n",
    "        - Tests that a dataset is representative of the master dataset"
   ]
  },
  {
   "cell_type": "code",
   "execution_count": 1,
   "metadata": {},
   "outputs": [],
   "source": [
    "import pandas as pd\n",
    "import numpy as  np\n",
    "\n",
    "from scipy.stats import ks_2samp\n",
    "\n",
    "import warnings\n",
    "warnings.filterwarnings('ignore')"
   ]
  },
  {
   "cell_type": "markdown",
   "metadata": {},
   "source": [
    "# Data Preprocessing"
   ]
  },
  {
   "cell_type": "markdown",
   "metadata": {},
   "source": [
    "## Helpers"
   ]
  },
  {
   "cell_type": "code",
   "execution_count": 2,
   "metadata": {},
   "outputs": [],
   "source": [
    "def find_outliers(data_df, categorical_threshold=0.1):\n",
    "    \"\"\"\n",
    "    :param data_df: Pandas DataFrame Containing the Data in question\n",
    "    :param categorical_threshold: The frequency threshold to mark a categorical value as an outlier\n",
    "    :return: A Pandas DataFrame listing the index of all outlier values\n",
    "\n",
    "    This function cycles through the column in the provided data and looks for outliers\n",
    "    There are two checks that are preformed.\n",
    "        1) Checking if a categorical column contains any values that fall below the acceptable frequency threshold and thus an outlier\n",
    "        2) Checking if a numerical column contains any statistical outliers, identified using IQR values\n",
    "    \"\"\"\n",
    "\n",
    "    outlier_df = pd.DataFrame(columns=[\"Column\",\"Value\",\"Index\",\"Issue\"])\n",
    "    for col in data_df.columns:\n",
    "        if data_df[col].dtype == 'object' and all(isinstance(val, str) for val in data_df[col]):\n",
    "            freq = data_df[col].value_counts(normalize=True)\n",
    "            outlier_values = freq[freq < categorical_threshold].index\n",
    "            outliers = data_df[data_df[col].isin(outlier_values)]\n",
    "        elif data_df[col].dtype in [\"float64\",\"int64\"]:\n",
    "            q1 = data_df[col].quantile(0.25)\n",
    "            q3 =  data_df[col].quantile(0.75)\n",
    "            iqr = q3 - q1\n",
    "            outliers = data_df[(data_df[col] < (q1 - 1.5 * iqr)) | (data_df[col] > (q3 + 1.5 * iqr))][col]\n",
    "        else:\n",
    "            pass\n",
    "\n",
    "        # Prepare the temp \"outliers\" DF to be concatenated with the main outlier_df\n",
    "        outliers = outliers.reset_index()\n",
    "        outliers[\"Column\"] = col\n",
    "        outliers = outliers.rename(columns={\"index\":\"Index\",col:\"Value\"})\n",
    "        outliers = outliers[[\"Column\",\"Value\",\"Index\"]]\n",
    "        outliers[\"Issue\"] = \"Outlier\"\n",
    "        outlier_df = pd.concat([outlier_df, outliers])\n",
    "\n",
    "        return outlier_df"
   ]
  },
  {
   "cell_type": "code",
   "execution_count": 3,
   "metadata": {},
   "outputs": [],
   "source": [
    "def find_duplicates(data_df):\n",
    "    \"\"\"\n",
    "    :param data_df: Pandas DataFrame Containing the Data in question\n",
    "    :return: A Pandas DataFrame listing the index of all duplicate values\n",
    "    \"\"\"\n",
    "\n",
    "    duplicates = data_df[data_df.duplicated()]\n",
    "    duplicates[\"Column\"] = str(duplicates.columns.values)\n",
    "    duplicates[\"Value\"] = \"N/A\"\n",
    "    duplicates = duplicates.reset_index()\n",
    "    duplicates = duplicates.rename(columns={\"index\":\"Index\"})\n",
    "    duplicates[\"Issue\"] = \"Duplicates\"\n",
    "    duplicates = duplicates[[\"Column\",\"Value\",\"Index\",\"Issue\"]]\n",
    "\n",
    "    return duplicates"
   ]
  },
  {
   "cell_type": "code",
   "execution_count": 4,
   "metadata": {},
   "outputs": [],
   "source": [
    "def find_balance(data_df, label_field):\n",
    "    \"\"\"\n",
    "    :param data_df: Pandas DataFrame Containing the Data in question\n",
    "    :param label_field: String value of the label field\n",
    "    :return: A Pandas DataFrame listing the class imbalance for each unique label\n",
    "    \"\"\"\n",
    "\n",
    "    label_count = data_df.groupby(label_field).size().reset_index(name=\"label_count\")\n",
    "    total_count = label_count[\"label_count\"].sum()\n",
    "    label_count[\"label_percent\"] = (label_count[\"label_count\"]/total_count)*100\n",
    "\n",
    "    label_count[\"imbalance_level\"] = np.where(\n",
    "        (label_count[\"label_percent\"] > 20) & (label_count[\"label_percent\"] <= 40)\n",
    "        # A label being 20%-40$ of the data is mild imbalance\n",
    "        ,\"Mild\"\n",
    "        ,np.where(\n",
    "            (label_count[\"label_percent\"] > 1) & (label_count[\"label_percent\"] <= 20)\n",
    "            # A label being 1%-20% of the data is moderate imbalance\n",
    "            ,\"Moderate\"\n",
    "            ,np.where(\n",
    "                (label_count[\"label_percent\"] <= 1)\n",
    "                # A label being <1% of the data is an extreme imbalance\n",
    "                ,\"Extreme\"\n",
    "                # This is the 'else' for units 40%-100% of the data, which is not an imbalance\n",
    "                ,\"None\"\n",
    "            )\n",
    "        )\n",
    "    )\n",
    "\n",
    "    return label_count"
   ]
  },
  {
   "cell_type": "code",
   "execution_count": 5,
   "metadata": {},
   "outputs": [],
   "source": [
    "def find_correlation(data_df, corr_method=\"pearson\", threshold = 0.75):\n",
    "    \n",
    "    correlation = data_df.corr(method = corr_method)\n",
    "    \n",
    "    correlation = correlation.unstack().reset_index()\n",
    "    \n",
    "    correlation = correlation[correlation[\"level_0\"]!=correlation[\"level_1\"]]\n",
    "    \n",
    "    correlation = correlation[correlation[0] >= threshold]\n",
    "    \n",
    "    correlation = correlation.rename(columns={\"level_0\":\"Attribute_1\",\"level_1\":\"Attribute_2\",0:\"Absolute_Correlation\"})\n",
    "    \n",
    "    return correlation"
   ]
  },
  {
   "cell_type": "markdown",
   "metadata": {},
   "source": [
    "## Wrapper"
   ]
  },
  {
   "cell_type": "code",
   "execution_count": 6,
   "metadata": {},
   "outputs": [],
   "source": [
    "def validate_dataset(data, categorical_threshold, label_field=None, corr_method=\"pearson\", threshold = 0.75, data_type=\"excel\"):\n",
    "\n",
    "    # First step is to determine what was passed in and convert to a DF\n",
    "    if data_type == \"excel\":\n",
    "        data_df = pd.read_excel(data)\n",
    "    elif data_type == \"csv\":\n",
    "        data_df = pd.read_csv(data)\n",
    "    elif data_type == \"df\":\n",
    "        data_df = data\n",
    "    else:\n",
    "        return \"Unexpected Type\"\n",
    "\n",
    "    # Check 1: Find Outliers\n",
    "    outliers = find_outliers(data_df, categorical_threshold=categorical_threshold)\n",
    "\n",
    "    # Check 2:\n",
    "    duplicates = find_duplicates(data_df)\n",
    "    \n",
    "    # Check 3:\n",
    "    if label_field is not None:\n",
    "        balance = find_balance(data_df, label_field)\n",
    "    \n",
    "    # Check 4:\n",
    "    correlation = find_correlation(data_df,corr_method=corr_method,threshold=threshold)\n",
    "\n",
    "    if label_field is not None:\n",
    "        return {\"outliers\":outliers,\"duplicates\":duplicates,\"balance\":balance,\"correlation\":correlation}\n",
    "    else:\n",
    "        return {\"outliers\":outliers,\"duplicates\":duplicates,\"correlation\":correlation}\n"
   ]
  },
  {
   "cell_type": "markdown",
   "metadata": {},
   "source": [
    "# Model Training & Testing"
   ]
  },
  {
   "cell_type": "code",
   "execution_count": 7,
   "metadata": {},
   "outputs": [],
   "source": [
    "def test_representative(dataset, sample):\n",
    "    return_df = pd.DataFrame(columns=[\"Feature\",\"P_Value\",\"Issue\"])\n",
    "    for feature in dataset.columns:\n",
    "        ks_stat, p_value = ks_2samp(dataset[feature], sample[feature])\n",
    "        # Distributions are not significantly different\n",
    "        if p_value >= 0.05:\n",
    "            return_df = pd.concat([return_df,pd.DataFrame([[feature,p_value,\"Representative\"]],columns=[\"Feature\",\"P_Value\",\"Issue\"])])\n",
    "        # Distributions are significantly different\n",
    "        else:\n",
    "            return_df = pd.concat([return_df,pd.DataFrame([[feature,p_value,\"Not Representative of Dataset\"]],columns=[\"Feature\",\"P_Value\",\"Issue\"])])\n",
    "\n",
    "    return return_df"
   ]
  },
  {
   "cell_type": "markdown",
   "metadata": {},
   "source": [
    "# Demonstrate Functions "
   ]
  },
  {
   "cell_type": "markdown",
   "metadata": {},
   "source": [
    "## Get Test Data"
   ]
  },
  {
   "cell_type": "code",
   "execution_count": 8,
   "metadata": {},
   "outputs": [],
   "source": [
    "test_1 = pd.read_csv(\"test_repos/linear-regression-example/data/Advertising_data.csv\")"
   ]
  },
  {
   "cell_type": "code",
   "execution_count": 9,
   "metadata": {},
   "outputs": [
    {
     "data": {
      "text/html": [
       "<div>\n",
       "<style scoped>\n",
       "    .dataframe tbody tr th:only-of-type {\n",
       "        vertical-align: middle;\n",
       "    }\n",
       "\n",
       "    .dataframe tbody tr th {\n",
       "        vertical-align: top;\n",
       "    }\n",
       "\n",
       "    .dataframe thead th {\n",
       "        text-align: right;\n",
       "    }\n",
       "</style>\n",
       "<table border=\"1\" class=\"dataframe\">\n",
       "  <thead>\n",
       "    <tr style=\"text-align: right;\">\n",
       "      <th></th>\n",
       "      <th>TV</th>\n",
       "      <th>radio</th>\n",
       "      <th>newspaper</th>\n",
       "      <th>sales</th>\n",
       "    </tr>\n",
       "  </thead>\n",
       "  <tbody>\n",
       "    <tr>\n",
       "      <th>0</th>\n",
       "      <td>230.1</td>\n",
       "      <td>37.8</td>\n",
       "      <td>69.2</td>\n",
       "      <td>2210</td>\n",
       "    </tr>\n",
       "    <tr>\n",
       "      <th>1</th>\n",
       "      <td>44.5</td>\n",
       "      <td>39.3</td>\n",
       "      <td>45.1</td>\n",
       "      <td>1040</td>\n",
       "    </tr>\n",
       "  </tbody>\n",
       "</table>\n",
       "</div>"
      ],
      "text/plain": [
       "      TV  radio  newspaper  sales\n",
       "0  230.1   37.8       69.2   2210\n",
       "1   44.5   39.3       45.1   1040"
      ]
     },
     "execution_count": 9,
     "metadata": {},
     "output_type": "execute_result"
    }
   ],
   "source": [
    "test_1.head(2)"
   ]
  },
  {
   "cell_type": "code",
   "execution_count": 10,
   "metadata": {},
   "outputs": [],
   "source": [
    "data = {'col1': ['a', 'b', 'c', 'd', 'e', 'a','a','a','f'],\n",
    "        'col2': [1, 2, 3, 4, 5, 1, 1, 1, 2]}\n",
    "test_2 = pd.DataFrame(data)"
   ]
  },
  {
   "cell_type": "code",
   "execution_count": 11,
   "metadata": {
    "scrolled": false
   },
   "outputs": [
    {
     "data": {
      "text/html": [
       "<div>\n",
       "<style scoped>\n",
       "    .dataframe tbody tr th:only-of-type {\n",
       "        vertical-align: middle;\n",
       "    }\n",
       "\n",
       "    .dataframe tbody tr th {\n",
       "        vertical-align: top;\n",
       "    }\n",
       "\n",
       "    .dataframe thead th {\n",
       "        text-align: right;\n",
       "    }\n",
       "</style>\n",
       "<table border=\"1\" class=\"dataframe\">\n",
       "  <thead>\n",
       "    <tr style=\"text-align: right;\">\n",
       "      <th></th>\n",
       "      <th>col1</th>\n",
       "      <th>col2</th>\n",
       "    </tr>\n",
       "  </thead>\n",
       "  <tbody>\n",
       "    <tr>\n",
       "      <th>0</th>\n",
       "      <td>a</td>\n",
       "      <td>1</td>\n",
       "    </tr>\n",
       "    <tr>\n",
       "      <th>1</th>\n",
       "      <td>b</td>\n",
       "      <td>2</td>\n",
       "    </tr>\n",
       "  </tbody>\n",
       "</table>\n",
       "</div>"
      ],
      "text/plain": [
       "  col1  col2\n",
       "0    a     1\n",
       "1    b     2"
      ]
     },
     "execution_count": 11,
     "metadata": {},
     "output_type": "execute_result"
    }
   ],
   "source": [
    "test_2.head(2)"
   ]
  },
  {
   "cell_type": "markdown",
   "metadata": {},
   "source": [
    "## Use Functions"
   ]
  },
  {
   "cell_type": "markdown",
   "metadata": {},
   "source": [
    "    Checking for outliers in a categorical column"
   ]
  },
  {
   "cell_type": "code",
   "execution_count": 12,
   "metadata": {
    "scrolled": true
   },
   "outputs": [
    {
     "data": {
      "text/html": [
       "<div>\n",
       "<style scoped>\n",
       "    .dataframe tbody tr th:only-of-type {\n",
       "        vertical-align: middle;\n",
       "    }\n",
       "\n",
       "    .dataframe tbody tr th {\n",
       "        vertical-align: top;\n",
       "    }\n",
       "\n",
       "    .dataframe thead th {\n",
       "        text-align: right;\n",
       "    }\n",
       "</style>\n",
       "<table border=\"1\" class=\"dataframe\">\n",
       "  <thead>\n",
       "    <tr style=\"text-align: right;\">\n",
       "      <th></th>\n",
       "      <th>Column</th>\n",
       "      <th>Value</th>\n",
       "      <th>Index</th>\n",
       "      <th>Issue</th>\n",
       "    </tr>\n",
       "  </thead>\n",
       "  <tbody>\n",
       "    <tr>\n",
       "      <th>0</th>\n",
       "      <td>col1</td>\n",
       "      <td>b</td>\n",
       "      <td>1</td>\n",
       "      <td>Outlier</td>\n",
       "    </tr>\n",
       "    <tr>\n",
       "      <th>1</th>\n",
       "      <td>col1</td>\n",
       "      <td>c</td>\n",
       "      <td>2</td>\n",
       "      <td>Outlier</td>\n",
       "    </tr>\n",
       "    <tr>\n",
       "      <th>2</th>\n",
       "      <td>col1</td>\n",
       "      <td>d</td>\n",
       "      <td>3</td>\n",
       "      <td>Outlier</td>\n",
       "    </tr>\n",
       "    <tr>\n",
       "      <th>3</th>\n",
       "      <td>col1</td>\n",
       "      <td>e</td>\n",
       "      <td>4</td>\n",
       "      <td>Outlier</td>\n",
       "    </tr>\n",
       "    <tr>\n",
       "      <th>4</th>\n",
       "      <td>col1</td>\n",
       "      <td>f</td>\n",
       "      <td>8</td>\n",
       "      <td>Outlier</td>\n",
       "    </tr>\n",
       "  </tbody>\n",
       "</table>\n",
       "</div>"
      ],
      "text/plain": [
       "  Column Value Index    Issue\n",
       "0   col1     b     1  Outlier\n",
       "1   col1     c     2  Outlier\n",
       "2   col1     d     3  Outlier\n",
       "3   col1     e     4  Outlier\n",
       "4   col1     f     8  Outlier"
      ]
     },
     "execution_count": 12,
     "metadata": {},
     "output_type": "execute_result"
    }
   ],
   "source": [
    "find_outliers(test_2, categorical_threshold=0.15)"
   ]
  },
  {
   "cell_type": "markdown",
   "metadata": {},
   "source": [
    "    Checking for duplicates"
   ]
  },
  {
   "cell_type": "code",
   "execution_count": 13,
   "metadata": {
    "scrolled": true
   },
   "outputs": [
    {
     "data": {
      "text/html": [
       "<div>\n",
       "<style scoped>\n",
       "    .dataframe tbody tr th:only-of-type {\n",
       "        vertical-align: middle;\n",
       "    }\n",
       "\n",
       "    .dataframe tbody tr th {\n",
       "        vertical-align: top;\n",
       "    }\n",
       "\n",
       "    .dataframe thead th {\n",
       "        text-align: right;\n",
       "    }\n",
       "</style>\n",
       "<table border=\"1\" class=\"dataframe\">\n",
       "  <thead>\n",
       "    <tr style=\"text-align: right;\">\n",
       "      <th></th>\n",
       "      <th>Column</th>\n",
       "      <th>Value</th>\n",
       "      <th>Index</th>\n",
       "      <th>Issue</th>\n",
       "    </tr>\n",
       "  </thead>\n",
       "  <tbody>\n",
       "    <tr>\n",
       "      <th>0</th>\n",
       "      <td>['col1' 'col2']</td>\n",
       "      <td>N/A</td>\n",
       "      <td>5</td>\n",
       "      <td>Duplicates</td>\n",
       "    </tr>\n",
       "    <tr>\n",
       "      <th>1</th>\n",
       "      <td>['col1' 'col2']</td>\n",
       "      <td>N/A</td>\n",
       "      <td>6</td>\n",
       "      <td>Duplicates</td>\n",
       "    </tr>\n",
       "    <tr>\n",
       "      <th>2</th>\n",
       "      <td>['col1' 'col2']</td>\n",
       "      <td>N/A</td>\n",
       "      <td>7</td>\n",
       "      <td>Duplicates</td>\n",
       "    </tr>\n",
       "  </tbody>\n",
       "</table>\n",
       "</div>"
      ],
      "text/plain": [
       "            Column Value  Index       Issue\n",
       "0  ['col1' 'col2']   N/A      5  Duplicates\n",
       "1  ['col1' 'col2']   N/A      6  Duplicates\n",
       "2  ['col1' 'col2']   N/A      7  Duplicates"
      ]
     },
     "execution_count": 13,
     "metadata": {},
     "output_type": "execute_result"
    }
   ],
   "source": [
    "find_duplicates(test_2)"
   ]
  },
  {
   "cell_type": "markdown",
   "metadata": {},
   "source": [
    "    Check for imbalance"
   ]
  },
  {
   "cell_type": "code",
   "execution_count": 14,
   "metadata": {},
   "outputs": [
    {
     "data": {
      "text/html": [
       "<div>\n",
       "<style scoped>\n",
       "    .dataframe tbody tr th:only-of-type {\n",
       "        vertical-align: middle;\n",
       "    }\n",
       "\n",
       "    .dataframe tbody tr th {\n",
       "        vertical-align: top;\n",
       "    }\n",
       "\n",
       "    .dataframe thead th {\n",
       "        text-align: right;\n",
       "    }\n",
       "</style>\n",
       "<table border=\"1\" class=\"dataframe\">\n",
       "  <thead>\n",
       "    <tr style=\"text-align: right;\">\n",
       "      <th></th>\n",
       "      <th>col2</th>\n",
       "      <th>label_count</th>\n",
       "      <th>label_percent</th>\n",
       "      <th>imbalance_level</th>\n",
       "    </tr>\n",
       "  </thead>\n",
       "  <tbody>\n",
       "    <tr>\n",
       "      <th>0</th>\n",
       "      <td>1</td>\n",
       "      <td>4</td>\n",
       "      <td>44.444444</td>\n",
       "      <td>None</td>\n",
       "    </tr>\n",
       "    <tr>\n",
       "      <th>1</th>\n",
       "      <td>2</td>\n",
       "      <td>2</td>\n",
       "      <td>22.222222</td>\n",
       "      <td>Mild</td>\n",
       "    </tr>\n",
       "    <tr>\n",
       "      <th>2</th>\n",
       "      <td>3</td>\n",
       "      <td>1</td>\n",
       "      <td>11.111111</td>\n",
       "      <td>Moderate</td>\n",
       "    </tr>\n",
       "    <tr>\n",
       "      <th>3</th>\n",
       "      <td>4</td>\n",
       "      <td>1</td>\n",
       "      <td>11.111111</td>\n",
       "      <td>Moderate</td>\n",
       "    </tr>\n",
       "    <tr>\n",
       "      <th>4</th>\n",
       "      <td>5</td>\n",
       "      <td>1</td>\n",
       "      <td>11.111111</td>\n",
       "      <td>Moderate</td>\n",
       "    </tr>\n",
       "  </tbody>\n",
       "</table>\n",
       "</div>"
      ],
      "text/plain": [
       "   col2  label_count  label_percent imbalance_level\n",
       "0     1            4      44.444444            None\n",
       "1     2            2      22.222222            Mild\n",
       "2     3            1      11.111111        Moderate\n",
       "3     4            1      11.111111        Moderate\n",
       "4     5            1      11.111111        Moderate"
      ]
     },
     "execution_count": 14,
     "metadata": {},
     "output_type": "execute_result"
    }
   ],
   "source": [
    "find_balance(test_2, label_field=\"col2\")"
   ]
  },
  {
   "cell_type": "markdown",
   "metadata": {},
   "source": [
    "    find_correlation"
   ]
  },
  {
   "cell_type": "code",
   "execution_count": 15,
   "metadata": {},
   "outputs": [
    {
     "data": {
      "text/html": [
       "<div>\n",
       "<style scoped>\n",
       "    .dataframe tbody tr th:only-of-type {\n",
       "        vertical-align: middle;\n",
       "    }\n",
       "\n",
       "    .dataframe tbody tr th {\n",
       "        vertical-align: top;\n",
       "    }\n",
       "\n",
       "    .dataframe thead th {\n",
       "        text-align: right;\n",
       "    }\n",
       "</style>\n",
       "<table border=\"1\" class=\"dataframe\">\n",
       "  <thead>\n",
       "    <tr style=\"text-align: right;\">\n",
       "      <th></th>\n",
       "      <th>Attribute_1</th>\n",
       "      <th>Attribute_2</th>\n",
       "      <th>Absolute_Correlation</th>\n",
       "    </tr>\n",
       "  </thead>\n",
       "  <tbody>\n",
       "    <tr>\n",
       "      <th>3</th>\n",
       "      <td>TV</td>\n",
       "      <td>sales</td>\n",
       "      <td>0.782224</td>\n",
       "    </tr>\n",
       "    <tr>\n",
       "      <th>12</th>\n",
       "      <td>sales</td>\n",
       "      <td>TV</td>\n",
       "      <td>0.782224</td>\n",
       "    </tr>\n",
       "  </tbody>\n",
       "</table>\n",
       "</div>"
      ],
      "text/plain": [
       "   Attribute_1 Attribute_2  Absolute_Correlation\n",
       "3           TV       sales              0.782224\n",
       "12       sales          TV              0.782224"
      ]
     },
     "execution_count": 15,
     "metadata": {},
     "output_type": "execute_result"
    }
   ],
   "source": [
    "find_correlation(test_1, corr_method=\"pearson\", threshold = 0.75)"
   ]
  },
  {
   "cell_type": "markdown",
   "metadata": {},
   "source": [
    "    Check if representative"
   ]
  },
  {
   "cell_type": "code",
   "execution_count": 16,
   "metadata": {},
   "outputs": [
    {
     "data": {
      "text/html": [
       "<div>\n",
       "<style scoped>\n",
       "    .dataframe tbody tr th:only-of-type {\n",
       "        vertical-align: middle;\n",
       "    }\n",
       "\n",
       "    .dataframe tbody tr th {\n",
       "        vertical-align: top;\n",
       "    }\n",
       "\n",
       "    .dataframe thead th {\n",
       "        text-align: right;\n",
       "    }\n",
       "</style>\n",
       "<table border=\"1\" class=\"dataframe\">\n",
       "  <thead>\n",
       "    <tr style=\"text-align: right;\">\n",
       "      <th></th>\n",
       "      <th>Feature</th>\n",
       "      <th>P_Value</th>\n",
       "      <th>Issue</th>\n",
       "    </tr>\n",
       "  </thead>\n",
       "  <tbody>\n",
       "    <tr>\n",
       "      <th>0</th>\n",
       "      <td>TV</td>\n",
       "      <td>0.641882</td>\n",
       "      <td>Representative</td>\n",
       "    </tr>\n",
       "    <tr>\n",
       "      <th>0</th>\n",
       "      <td>radio</td>\n",
       "      <td>0.922029</td>\n",
       "      <td>Representative</td>\n",
       "    </tr>\n",
       "    <tr>\n",
       "      <th>0</th>\n",
       "      <td>newspaper</td>\n",
       "      <td>0.844801</td>\n",
       "      <td>Representative</td>\n",
       "    </tr>\n",
       "    <tr>\n",
       "      <th>0</th>\n",
       "      <td>sales</td>\n",
       "      <td>0.798101</td>\n",
       "      <td>Representative</td>\n",
       "    </tr>\n",
       "  </tbody>\n",
       "</table>\n",
       "</div>"
      ],
      "text/plain": [
       "     Feature   P_Value           Issue\n",
       "0         TV  0.641882  Representative\n",
       "0      radio  0.922029  Representative\n",
       "0  newspaper  0.844801  Representative\n",
       "0      sales  0.798101  Representative"
      ]
     },
     "execution_count": 16,
     "metadata": {},
     "output_type": "execute_result"
    }
   ],
   "source": [
    "test_representative(test_1, test_1.sample(50))"
   ]
  }
 ],
 "metadata": {
  "kernelspec": {
   "display_name": "Python 3 (ipykernel)",
   "language": "python",
   "name": "python3"
  },
  "language_info": {
   "codemirror_mode": {
    "name": "ipython",
    "version": 3
   },
   "file_extension": ".py",
   "mimetype": "text/x-python",
   "name": "python",
   "nbconvert_exporter": "python",
   "pygments_lexer": "ipython3",
   "version": "3.9.13"
  }
 },
 "nbformat": 4,
 "nbformat_minor": 1
}
