{
 "cells": [
  {
   "cell_type": "code",
   "execution_count": 2,
   "metadata": {
    "pycharm": {
     "is_executing": true
    }
   },
   "outputs": [],
   "source": [
    "import pandas as pd;\n",
    "import numpy  as np;\n",
    "import scipy.integrate;\n",
    "import matplotlib.pyplot as plt;\n",
    "import copy;\n",
    "from   sklearn.metrics       import mean_squared_error, mean_absolute_error;\n",
    "from   sklearn.linear_model  import LinearRegression, BayesianRidge;\n",
    "from   sklearn.tree          import DecisionTreeRegressor;\n",
    "from   sklearn.preprocessing import PolynomialFeatures"
   ]
  },
  {
   "cell_type": "code",
   "execution_count": 29,
   "metadata": {},
   "outputs": [],
   "source": [
    "# ** IMPORTING VALIDATION LIBRARY **\n",
    "from validation.unit import data_assumptions, model_metrics\n",
    "\n",
    "from validation.integration import (\n",
    "   find_outliers, find_duplicates, find_balance, find_correlation\n",
    "   ,validate_dataset, test_representative \n",
    ")\n",
    "# **********************************"
   ]
  },
  {
   "cell_type": "code",
   "execution_count": 4,
   "metadata": {},
   "outputs": [
    {
     "name": "stderr",
     "output_type": "stream",
     "text": [
      "C:\\Users\\Caleb\\AppData\\Local\\Temp\\ipykernel_44712\\3728841523.py:2: FutureWarning: The error_bad_lines argument has been deprecated and will be removed in a future version. Use on_bad_lines in the future.\n",
      "\n",
      "\n",
      "  df_orig = pd.read_csv(dir_str, error_bad_lines = False);\n"
     ]
    }
   ],
   "source": [
    "dir_str = \"test_repos/Regression-Analysis-of-COVID-19/covid_19_data.csv\";\n",
    "df_orig = pd.read_csv(dir_str, error_bad_lines = False);"
   ]
  },
  {
   "cell_type": "markdown",
   "metadata": {},
   "source": [
    "    Using the validation functions to test the current state of the data"
   ]
  },
  {
   "cell_type": "code",
   "execution_count": 34,
   "metadata": {},
   "outputs": [
    {
     "data": {
      "text/html": [
       "<div>\n",
       "<style scoped>\n",
       "    .dataframe tbody tr th:only-of-type {\n",
       "        vertical-align: middle;\n",
       "    }\n",
       "\n",
       "    .dataframe tbody tr th {\n",
       "        vertical-align: top;\n",
       "    }\n",
       "\n",
       "    .dataframe thead th {\n",
       "        text-align: right;\n",
       "    }\n",
       "</style>\n",
       "<table border=\"1\" class=\"dataframe\">\n",
       "  <thead>\n",
       "    <tr style=\"text-align: right;\">\n",
       "      <th></th>\n",
       "      <th>index</th>\n",
       "      <th>null_count</th>\n",
       "      <th>Data_Types</th>\n",
       "    </tr>\n",
       "  </thead>\n",
       "  <tbody>\n",
       "    <tr>\n",
       "      <th>0</th>\n",
       "      <td>SNo</td>\n",
       "      <td>0.0</td>\n",
       "      <td>0</td>\n",
       "    </tr>\n",
       "    <tr>\n",
       "      <th>1</th>\n",
       "      <td>ObservationDate</td>\n",
       "      <td>0.0</td>\n",
       "      <td>0</td>\n",
       "    </tr>\n",
       "    <tr>\n",
       "      <th>2</th>\n",
       "      <td>Province/State</td>\n",
       "      <td>4956.0</td>\n",
       "      <td>[&lt;class 'str'&gt;, &lt;class 'float'&gt;]</td>\n",
       "    </tr>\n",
       "    <tr>\n",
       "      <th>3</th>\n",
       "      <td>Country/Region</td>\n",
       "      <td>0.0</td>\n",
       "      <td>0</td>\n",
       "    </tr>\n",
       "    <tr>\n",
       "      <th>4</th>\n",
       "      <td>Last Update</td>\n",
       "      <td>0.0</td>\n",
       "      <td>0</td>\n",
       "    </tr>\n",
       "    <tr>\n",
       "      <th>5</th>\n",
       "      <td>Confirmed</td>\n",
       "      <td>0.0</td>\n",
       "      <td>0</td>\n",
       "    </tr>\n",
       "    <tr>\n",
       "      <th>6</th>\n",
       "      <td>Deaths</td>\n",
       "      <td>0.0</td>\n",
       "      <td>0</td>\n",
       "    </tr>\n",
       "    <tr>\n",
       "      <th>7</th>\n",
       "      <td>Recovered</td>\n",
       "      <td>0.0</td>\n",
       "      <td>0</td>\n",
       "    </tr>\n",
       "  </tbody>\n",
       "</table>\n",
       "</div>"
      ],
      "text/plain": [
       "             index  null_count                        Data_Types\n",
       "0              SNo         0.0                                 0\n",
       "1  ObservationDate         0.0                                 0\n",
       "2   Province/State      4956.0  [<class 'str'>, <class 'float'>]\n",
       "3   Country/Region         0.0                                 0\n",
       "4      Last Update         0.0                                 0\n",
       "5        Confirmed         0.0                                 0\n",
       "6           Deaths         0.0                                 0\n",
       "7        Recovered         0.0                                 0"
      ]
     },
     "execution_count": 34,
     "metadata": {},
     "output_type": "execute_result"
    }
   ],
   "source": [
    "data_assumptions(df_orig)"
   ]
  },
  {
   "cell_type": "code",
   "execution_count": 44,
   "metadata": {},
   "outputs": [
    {
     "name": "stderr",
     "output_type": "stream",
     "text": [
      "D:\\PycharmProjects\\ValidationProject\\validation\\integration.py:100: FutureWarning: The default value of numeric_only in DataFrame.corr is deprecated. In a future version, it will default to False. Select only valid columns or specify the value of numeric_only to silence this warning.\n",
      "  correlation = data_df.corr(method=corr_method)\n"
     ]
    },
    {
     "data": {
      "text/plain": [
       "{'outliers': Empty DataFrame\n",
       " Columns: [Column, Value, Index, Issue]\n",
       " Index: [],\n",
       " 'duplicates': Empty DataFrame\n",
       " Columns: [Column, Value, Index, Issue]\n",
       " Index: [],\n",
       " 'correlation':    Attribute_1 Attribute_2  Absolute_Correlation\n",
       " 6    Confirmed      Deaths              0.873705\n",
       " 7    Confirmed   Recovered              0.753910\n",
       " 9       Deaths   Confirmed              0.873705\n",
       " 13   Recovered   Confirmed              0.753910}"
      ]
     },
     "execution_count": 44,
     "metadata": {},
     "output_type": "execute_result"
    }
   ],
   "source": [
    "validate_dataset(df_orig, categorical_threshold=0.15, corr_method=\"pearson\"\n",
    "                 , threshold = 0.75, data_type=\"df\")"
   ]
  },
  {
   "cell_type": "code",
   "execution_count": 45,
   "metadata": {},
   "outputs": [
    {
     "name": "stderr",
     "output_type": "stream",
     "text": [
      "D:\\PycharmProjects\\ValidationProject\\validation\\integration.py:100: FutureWarning: The default value of numeric_only in DataFrame.corr is deprecated. In a future version, it will default to False. Select only valid columns or specify the value of numeric_only to silence this warning.\n",
      "  correlation = data_df.corr(method=corr_method)\n"
     ]
    }
   ],
   "source": [
    "x = validate_dataset(df_orig, categorical_threshold=0.15, corr_method=\"pearson\"\n",
    "                 , threshold = 0.75, data_type=\"df\")"
   ]
  },
  {
   "cell_type": "code",
   "execution_count": 46,
   "metadata": {},
   "outputs": [
    {
     "data": {
      "text/html": [
       "<div>\n",
       "<style scoped>\n",
       "    .dataframe tbody tr th:only-of-type {\n",
       "        vertical-align: middle;\n",
       "    }\n",
       "\n",
       "    .dataframe tbody tr th {\n",
       "        vertical-align: top;\n",
       "    }\n",
       "\n",
       "    .dataframe thead th {\n",
       "        text-align: right;\n",
       "    }\n",
       "</style>\n",
       "<table border=\"1\" class=\"dataframe\">\n",
       "  <thead>\n",
       "    <tr style=\"text-align: right;\">\n",
       "      <th></th>\n",
       "      <th>Attribute_1</th>\n",
       "      <th>Attribute_2</th>\n",
       "      <th>Absolute_Correlation</th>\n",
       "    </tr>\n",
       "  </thead>\n",
       "  <tbody>\n",
       "    <tr>\n",
       "      <th>6</th>\n",
       "      <td>Confirmed</td>\n",
       "      <td>Deaths</td>\n",
       "      <td>0.873705</td>\n",
       "    </tr>\n",
       "    <tr>\n",
       "      <th>7</th>\n",
       "      <td>Confirmed</td>\n",
       "      <td>Recovered</td>\n",
       "      <td>0.753910</td>\n",
       "    </tr>\n",
       "    <tr>\n",
       "      <th>9</th>\n",
       "      <td>Deaths</td>\n",
       "      <td>Confirmed</td>\n",
       "      <td>0.873705</td>\n",
       "    </tr>\n",
       "    <tr>\n",
       "      <th>13</th>\n",
       "      <td>Recovered</td>\n",
       "      <td>Confirmed</td>\n",
       "      <td>0.753910</td>\n",
       "    </tr>\n",
       "  </tbody>\n",
       "</table>\n",
       "</div>"
      ],
      "text/plain": [
       "   Attribute_1 Attribute_2  Absolute_Correlation\n",
       "6    Confirmed      Deaths              0.873705\n",
       "7    Confirmed   Recovered              0.753910\n",
       "9       Deaths   Confirmed              0.873705\n",
       "13   Recovered   Confirmed              0.753910"
      ]
     },
     "execution_count": 46,
     "metadata": {},
     "output_type": "execute_result"
    }
   ],
   "source": [
    "x[\"correlation\"]"
   ]
  },
  {
   "cell_type": "markdown",
   "metadata": {},
   "source": [
    "    ***** "
   ]
  },
  {
   "cell_type": "code",
   "execution_count": 5,
   "metadata": {},
   "outputs": [],
   "source": [
    "df = copy.deepcopy(df_orig);\n",
    "del df['Last Update'];\n",
    "date_lst  = df.ObservationDate.unique();\n",
    "date_dict = {}\n",
    "for i in range(len(date_lst)):\n",
    "    df_temp = df.loc[df['ObservationDate'] == date_lst[i]];\n",
    "    date_dict[date_lst[i]] = df_temp;    "
   ]
  },
  {
   "cell_type": "code",
   "execution_count": 6,
   "metadata": {},
   "outputs": [],
   "source": [
    "date_tot_tup_dict = {};\n",
    "for date, df in date_dict.items():\n",
    "    tup_temp = (df['Confirmed'].sum(), df['Deaths'].sum(), df['Recovered'].sum())\n",
    "    date_tot_tup_dict[date] = tup_temp;"
   ]
  },
  {
   "cell_type": "code",
   "execution_count": 7,
   "metadata": {},
   "outputs": [],
   "source": [
    "df_date_tots = pd.DataFrame(date_tot_tup_dict);\n",
    "df_date_tots = df_date_tots.transpose();\n",
    "df_date_tots.columns = ['Confirmed', 'Deaths', 'Recovered'];"
   ]
  },
  {
   "cell_type": "code",
   "execution_count": 8,
   "metadata": {},
   "outputs": [],
   "source": [
    "df_date_tots['Closed Cases'] = df_date_tots['Deaths'] + df_date_tots['Recovered'];"
   ]
  },
  {
   "cell_type": "code",
   "execution_count": 9,
   "metadata": {},
   "outputs": [],
   "source": [
    "df_date_tots['Active Cases'] = df_date_tots['Confirmed'] - df_date_tots['Closed Cases']"
   ]
  },
  {
   "cell_type": "code",
   "execution_count": 10,
   "metadata": {},
   "outputs": [],
   "source": [
    "growth_len_lst = len(date_lst) - 1; # 69\n",
    "confirmed_lst = df_date_tots[\"Confirmed\"];\n",
    "death_lst = df_date_tots[\"Deaths\"];\n",
    "recovered_lst = df_date_tots[\"Recovered\"];\n",
    "confGF_lst = []\n",
    "deathsGF_lst = []\n",
    "recovGF_lst = []\n",
    "for i in range(growth_len_lst):\n",
    "    confirmedGF = confirmed_lst[i+1] / confirmed_lst[i] ;\n",
    "    confGF_lst.append(confirmedGF)\n",
    "    deathGF = death_lst[i+1] / death_lst[i] ;\n",
    "    deathsGF_lst.append(deathGF)\n",
    "    recoveredGF = recovered_lst[i+1] / recovered_lst[i] ;\n",
    "    recovGF_lst.append(recoveredGF);"
   ]
  },
  {
   "cell_type": "code",
   "execution_count": 11,
   "metadata": {},
   "outputs": [],
   "source": [
    "days_since_lst = [];\n",
    "for i in range(len(date_lst)):\n",
    "    days_since_lst.append(i);\n",
    "df_date_tots[\"Days Since:\"] = days_since_lst;\n",
    "df_date_tots = df_date_tots[[\"Days Since:\", \"Confirmed\", \"Deaths\", \"Recovered\", \"Active Cases\", \"Closed Cases\"]];"
   ]
  },
  {
   "cell_type": "code",
   "execution_count": 12,
   "metadata": {},
   "outputs": [],
   "source": [
    "from sklearn.model_selection import train_test_split, RandomizedSearchCV;\n",
    "from sklearn.preprocessing import StandardScaler;\n",
    "X = np.array(df_date_tots[\"Confirmed\"])\n",
    "y = np.array(df_date_tots[\"Days Since:\"]).reshape(-1,1)"
   ]
  },
  {
   "cell_type": "code",
   "execution_count": 13,
   "metadata": {},
   "outputs": [],
   "source": [
    "X_train, X_test, y_train, y_test = train_test_split(X,\n",
    "                                                    y,\n",
    "                                                    test_size = 0.15,\n",
    "                                                    shuffle = False)"
   ]
  },
  {
   "cell_type": "code",
   "execution_count": 15,
   "metadata": {},
   "outputs": [],
   "source": [
    "lin_model = LinearRegression(fit_intercept = False);\n",
    "lin_model.fit(y_train, X_train);\n",
    "test_lin_pred = lin_model.predict(y_test)\n",
    "lin_pred = lin_model.predict(y)"
   ]
  },
  {
   "cell_type": "code",
   "execution_count": 16,
   "metadata": {},
   "outputs": [],
   "source": [
    "poly = PolynomialFeatures(degree=5)\n",
    "poly_y_train = poly.fit_transform(y_train)\n",
    "poly_y_test  = poly.fit_transform(y_test)\n",
    "poly_y = poly.fit_transform(y)"
   ]
  },
  {
   "cell_type": "code",
   "execution_count": 18,
   "metadata": {},
   "outputs": [],
   "source": [
    "linear_model = LinearRegression(fit_intercept=False)\n",
    "linear_model.fit(poly_y_train, X_train)\n",
    "test_linear_pred = linear_model.predict(poly_y_test)\n",
    "linear_pred = linear_model.predict(poly_y)\n"
   ]
  },
  {
   "cell_type": "code",
   "execution_count": 20,
   "metadata": {},
   "outputs": [
    {
     "name": "stdout",
     "output_type": "stream",
     "text": [
      "Fitting 3 folds for each of 40 candidates, totalling 120 fits\n"
     ]
    }
   ],
   "source": [
    "tol      = [1e-4, 1e-3, 1e-2]\n",
    "alpha_1  = [1e-7, 1e-6, 1e-5, 1e-4]\n",
    "alpha_2  = [1e-7, 1e-6, 1e-5, 1e-4]\n",
    "lambda_1 = [1e-7, 1e-6, 1e-5, 1e-4]\n",
    "lambda_2 = [1e-7, 1e-6, 1e-5, 1e-4]\n",
    "\n",
    "bayesian_grid = {'tol': tol,\n",
    "                 'alpha_1': alpha_1,\n",
    "                 'alpha_2' : alpha_2,\n",
    "                 'lambda_1': lambda_1,\n",
    "                 'lambda_2' : lambda_2 }\n",
    "\n",
    "bayesian = BayesianRidge(fit_intercept=False)\n",
    "bayesian_search = RandomizedSearchCV(bayesian,\n",
    "                                     bayesian_grid,\n",
    "                                     scoring='neg_mean_squared_error',\n",
    "                                     cv=3,\n",
    "                                     return_train_score=True,\n",
    "                                     n_jobs=-1,\n",
    "                                     n_iter=40,\n",
    "                                     verbose=1)\n",
    "\n",
    "bayesian_search.fit(y_train, X_train);"
   ]
  },
  {
   "cell_type": "code",
   "execution_count": 21,
   "metadata": {},
   "outputs": [],
   "source": [
    "y_test_ridge_pred = bayesian_search.predict(y_test);\n",
    "y_ridge_pred = bayesian_search.predict(y);"
   ]
  },
  {
   "cell_type": "code",
   "execution_count": 22,
   "metadata": {},
   "outputs": [],
   "source": [
    "bayesian_search_poly = RandomizedSearchCV(bayesian,\n",
    "                                     bayesian_grid,\n",
    "                                     scoring='neg_mean_squared_error',\n",
    "                                     cv=3,\n",
    "                                     return_train_score=True,\n",
    "                                     n_jobs=-1,\n",
    "                                     n_iter=40,\n",
    "                                     verbose=1)\n"
   ]
  },
  {
   "cell_type": "code",
   "execution_count": 23,
   "metadata": {},
   "outputs": [
    {
     "name": "stdout",
     "output_type": "stream",
     "text": [
      "Fitting 3 folds for each of 40 candidates, totalling 120 fits\n"
     ]
    }
   ],
   "source": [
    "bayesian_search_poly.fit(poly_y_train, X_train);"
   ]
  },
  {
   "cell_type": "code",
   "execution_count": 24,
   "metadata": {},
   "outputs": [],
   "source": [
    "bayesian_poly_confirmed = bayesian_search_poly.best_estimator_\n",
    "test_poly_bayesian_pred = bayesian_poly_confirmed.predict(poly_y_test)\n",
    "bayesian_poly_pred = bayesian_poly_confirmed.predict(poly_y)"
   ]
  },
  {
   "cell_type": "code",
   "execution_count": 25,
   "metadata": {},
   "outputs": [
    {
     "data": {
      "text/html": [
       "<style>#sk-container-id-1 {color: black;background-color: white;}#sk-container-id-1 pre{padding: 0;}#sk-container-id-1 div.sk-toggleable {background-color: white;}#sk-container-id-1 label.sk-toggleable__label {cursor: pointer;display: block;width: 100%;margin-bottom: 0;padding: 0.3em;box-sizing: border-box;text-align: center;}#sk-container-id-1 label.sk-toggleable__label-arrow:before {content: \"▸\";float: left;margin-right: 0.25em;color: #696969;}#sk-container-id-1 label.sk-toggleable__label-arrow:hover:before {color: black;}#sk-container-id-1 div.sk-estimator:hover label.sk-toggleable__label-arrow:before {color: black;}#sk-container-id-1 div.sk-toggleable__content {max-height: 0;max-width: 0;overflow: hidden;text-align: left;background-color: #f0f8ff;}#sk-container-id-1 div.sk-toggleable__content pre {margin: 0.2em;color: black;border-radius: 0.25em;background-color: #f0f8ff;}#sk-container-id-1 input.sk-toggleable__control:checked~div.sk-toggleable__content {max-height: 200px;max-width: 100%;overflow: auto;}#sk-container-id-1 input.sk-toggleable__control:checked~label.sk-toggleable__label-arrow:before {content: \"▾\";}#sk-container-id-1 div.sk-estimator input.sk-toggleable__control:checked~label.sk-toggleable__label {background-color: #d4ebff;}#sk-container-id-1 div.sk-label input.sk-toggleable__control:checked~label.sk-toggleable__label {background-color: #d4ebff;}#sk-container-id-1 input.sk-hidden--visually {border: 0;clip: rect(1px 1px 1px 1px);clip: rect(1px, 1px, 1px, 1px);height: 1px;margin: -1px;overflow: hidden;padding: 0;position: absolute;width: 1px;}#sk-container-id-1 div.sk-estimator {font-family: monospace;background-color: #f0f8ff;border: 1px dotted black;border-radius: 0.25em;box-sizing: border-box;margin-bottom: 0.5em;}#sk-container-id-1 div.sk-estimator:hover {background-color: #d4ebff;}#sk-container-id-1 div.sk-parallel-item::after {content: \"\";width: 100%;border-bottom: 1px solid gray;flex-grow: 1;}#sk-container-id-1 div.sk-label:hover label.sk-toggleable__label {background-color: #d4ebff;}#sk-container-id-1 div.sk-serial::before {content: \"\";position: absolute;border-left: 1px solid gray;box-sizing: border-box;top: 0;bottom: 0;left: 50%;z-index: 0;}#sk-container-id-1 div.sk-serial {display: flex;flex-direction: column;align-items: center;background-color: white;padding-right: 0.2em;padding-left: 0.2em;position: relative;}#sk-container-id-1 div.sk-item {position: relative;z-index: 1;}#sk-container-id-1 div.sk-parallel {display: flex;align-items: stretch;justify-content: center;background-color: white;position: relative;}#sk-container-id-1 div.sk-item::before, #sk-container-id-1 div.sk-parallel-item::before {content: \"\";position: absolute;border-left: 1px solid gray;box-sizing: border-box;top: 0;bottom: 0;left: 50%;z-index: -1;}#sk-container-id-1 div.sk-parallel-item {display: flex;flex-direction: column;z-index: 1;position: relative;background-color: white;}#sk-container-id-1 div.sk-parallel-item:first-child::after {align-self: flex-end;width: 50%;}#sk-container-id-1 div.sk-parallel-item:last-child::after {align-self: flex-start;width: 50%;}#sk-container-id-1 div.sk-parallel-item:only-child::after {width: 0;}#sk-container-id-1 div.sk-dashed-wrapped {border: 1px dashed gray;margin: 0 0.4em 0.5em 0.4em;box-sizing: border-box;padding-bottom: 0.4em;background-color: white;}#sk-container-id-1 div.sk-label label {font-family: monospace;font-weight: bold;display: inline-block;line-height: 1.2em;}#sk-container-id-1 div.sk-label-container {text-align: center;}#sk-container-id-1 div.sk-container {/* jupyter's `normalize.less` sets `[hidden] { display: none; }` but bootstrap.min.css set `[hidden] { display: none !important; }` so we also need the `!important` here to be able to override the default hidden behavior on the sphinx rendered scikit-learn.org. See: https://github.com/scikit-learn/scikit-learn/issues/21755 */display: inline-block !important;position: relative;}#sk-container-id-1 div.sk-text-repr-fallback {display: none;}</style><div id=\"sk-container-id-1\" class=\"sk-top-container\"><div class=\"sk-text-repr-fallback\"><pre>RandomizedSearchCV(cv=3, estimator=SVR(),\n",
       "                   param_distributions={&#x27;C&#x27;: [0.01, 0.1, 1, 10, 100],\n",
       "                                        &#x27;epsilon&#x27;: [0.01, 0.1, 1],\n",
       "                                        &#x27;gamma&#x27;: [0.01, 0.1, 1],\n",
       "                                        &#x27;kernel&#x27;: [&#x27;poly&#x27;, &#x27;sigmoid&#x27;, &#x27;rbf&#x27;],\n",
       "                                        &#x27;shrinking&#x27;: [True, False]},\n",
       "                   return_train_score=True, scoring=&#x27;neg_mean_squared_error&#x27;)</pre><b>In a Jupyter environment, please rerun this cell to show the HTML representation or trust the notebook. <br />On GitHub, the HTML representation is unable to render, please try loading this page with nbviewer.org.</b></div><div class=\"sk-container\" hidden><div class=\"sk-item sk-dashed-wrapped\"><div class=\"sk-label-container\"><div class=\"sk-label sk-toggleable\"><input class=\"sk-toggleable__control sk-hidden--visually\" id=\"sk-estimator-id-1\" type=\"checkbox\" ><label for=\"sk-estimator-id-1\" class=\"sk-toggleable__label sk-toggleable__label-arrow\">RandomizedSearchCV</label><div class=\"sk-toggleable__content\"><pre>RandomizedSearchCV(cv=3, estimator=SVR(),\n",
       "                   param_distributions={&#x27;C&#x27;: [0.01, 0.1, 1, 10, 100],\n",
       "                                        &#x27;epsilon&#x27;: [0.01, 0.1, 1],\n",
       "                                        &#x27;gamma&#x27;: [0.01, 0.1, 1],\n",
       "                                        &#x27;kernel&#x27;: [&#x27;poly&#x27;, &#x27;sigmoid&#x27;, &#x27;rbf&#x27;],\n",
       "                                        &#x27;shrinking&#x27;: [True, False]},\n",
       "                   return_train_score=True, scoring=&#x27;neg_mean_squared_error&#x27;)</pre></div></div></div><div class=\"sk-parallel\"><div class=\"sk-parallel-item\"><div class=\"sk-item\"><div class=\"sk-label-container\"><div class=\"sk-label sk-toggleable\"><input class=\"sk-toggleable__control sk-hidden--visually\" id=\"sk-estimator-id-2\" type=\"checkbox\" ><label for=\"sk-estimator-id-2\" class=\"sk-toggleable__label sk-toggleable__label-arrow\">estimator: SVR</label><div class=\"sk-toggleable__content\"><pre>SVR()</pre></div></div></div><div class=\"sk-serial\"><div class=\"sk-item\"><div class=\"sk-estimator sk-toggleable\"><input class=\"sk-toggleable__control sk-hidden--visually\" id=\"sk-estimator-id-3\" type=\"checkbox\" ><label for=\"sk-estimator-id-3\" class=\"sk-toggleable__label sk-toggleable__label-arrow\">SVR</label><div class=\"sk-toggleable__content\"><pre>SVR()</pre></div></div></div></div></div></div></div></div></div></div>"
      ],
      "text/plain": [
       "RandomizedSearchCV(cv=3, estimator=SVR(),\n",
       "                   param_distributions={'C': [0.01, 0.1, 1, 10, 100],\n",
       "                                        'epsilon': [0.01, 0.1, 1],\n",
       "                                        'gamma': [0.01, 0.1, 1],\n",
       "                                        'kernel': ['poly', 'sigmoid', 'rbf'],\n",
       "                                        'shrinking': [True, False]},\n",
       "                   return_train_score=True, scoring='neg_mean_squared_error')"
      ]
     },
     "execution_count": 25,
     "metadata": {},
     "output_type": "execute_result"
    }
   ],
   "source": [
    "from sklearn.svm import SVR\n",
    "kernel = ['poly', 'sigmoid', 'rbf']\n",
    "c = [0.01, 0.1, 1, 10, 100];\n",
    "gamma = [0.01, 0.1, 1];\n",
    "epsilon = [0.01, 0.1, 1];\n",
    "shrinking = [True, False];\n",
    "svm_grid = {'kernel' :kernel,\n",
    "           'C' : c,\n",
    "           'gamma':gamma,\n",
    "           'epsilon': epsilon,\n",
    "           'shrinking': shrinking}\n",
    "\n",
    "svm = SVR();\n",
    "svm_search = RandomizedSearchCV(svm, svm_grid, scoring = 'neg_mean_squared_error', cv=3,\n",
    "                               return_train_score = True)\n",
    "\n",
    "\n",
    "svm_search.fit(y_train, X_train) # note how y_train had to be put first"
   ]
  },
  {
   "cell_type": "code",
   "execution_count": 26,
   "metadata": {},
   "outputs": [],
   "source": [
    "y_pred_test = svm_search.predict(y_test)"
   ]
  },
  {
   "cell_type": "code",
   "execution_count": 27,
   "metadata": {},
   "outputs": [],
   "source": [
    "y_pred = svm_search.predict(y)"
   ]
  },
  {
   "cell_type": "code",
   "execution_count": 28,
   "metadata": {},
   "outputs": [],
   "source": [
    "DT_reg = DecisionTreeRegressor(random_state=0);\n",
    "DT_reg.fit(y_train, X_train);\n",
    "y_test_DT_pred = DT_reg.predict(y_test);\n",
    "y_DT_pred = DT_reg.predict(y);"
   ]
  },
  {
   "cell_type": "code",
   "execution_count": null,
   "metadata": {},
   "outputs": [],
   "source": []
  }
 ],
 "metadata": {
  "celltoolbar": "Raw Cell Format",
  "kernelspec": {
   "display_name": "Python 3 (ipykernel)",
   "language": "python",
   "name": "python3"
  },
  "language_info": {
   "codemirror_mode": {
    "name": "ipython",
    "version": 3
   },
   "file_extension": ".py",
   "mimetype": "text/x-python",
   "name": "python",
   "nbconvert_exporter": "python",
   "pygments_lexer": "ipython3",
   "version": "3.9.13"
  }
 },
 "nbformat": 4,
 "nbformat_minor": 4
}
